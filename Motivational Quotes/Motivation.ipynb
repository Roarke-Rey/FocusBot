{
 "cells": [
  {
   "cell_type": "code",
   "execution_count": null,
   "id": "6284d775-73d6-485d-887b-2ab623cb9112",
   "metadata": {
    "tags": []
   },
   "outputs": [
    {
     "ename": "",
     "evalue": "",
     "output_type": "error",
     "traceback": [
      "\u001b[1;31mRunning cells with 'c:\\Python311\\python.exe' requires the ipykernel package.\n",
      "\u001b[1;31mRun the following command to install 'ipykernel' into the Python environment. \n",
      "\u001b[1;31mCommand: 'c:/Python311/python.exe -m pip install ipykernel -U --user --force-reinstall'"
     ]
    }
   ],
   "source": [
    "import pandas as pd\n",
    "import random"
   ]
  },
  {
   "cell_type": "code",
   "execution_count": 3,
   "id": "86c21ef6-e314-4186-9f8d-47dfd245ac55",
   "metadata": {
    "tags": []
   },
   "outputs": [
    {
     "name": "stdout",
     "output_type": "stream",
     "text": [
      "                                               Quote          Author   \n",
      "0  Don't cry because it's over, smile because it ...       Dr. Seuss  \\\n",
      "1  Don't cry because it's over, smile because it ...       Dr. Seuss   \n",
      "2  I'm selfish, impatient and a little insecure. ...  Marilyn Monroe   \n",
      "3  I'm selfish, impatient and a little insecure. ...  Marilyn Monroe   \n",
      "4  I'm selfish, impatient and a little insecure. ...  Marilyn Monroe   \n",
      "\n",
      "                                                Tags  Popularity   Category  \n",
      "0  [attributed-no-source, cry, crying, experience...    0.155666       life  \n",
      "1  [attributed-no-source, cry, crying, experience...    0.155666  happiness  \n",
      "2  [attributed-no-source, best, life, love, mista...    0.129122       love  \n",
      "3  [attributed-no-source, best, life, love, mista...    0.129122       life  \n",
      "4  [attributed-no-source, best, life, love, mista...    0.129122      truth  \n"
     ]
    }
   ],
   "source": [
    "df = pd.read_json(\"Quotes\\quotes.json\")\n",
    "\n",
    "print(df.head())"
   ]
  },
  {
   "cell_type": "code",
   "execution_count": 4,
   "id": "81586a3b",
   "metadata": {},
   "outputs": [
    {
     "name": "stdout",
     "output_type": "stream",
     "text": [
      "                                               Quote          Author   \n",
      "0  Don't cry because it's over, smile because it ...       Dr. Seuss  \\\n",
      "1  Don't cry because it's over, smile because it ...       Dr. Seuss   \n",
      "2  I'm selfish, impatient and a little insecure. ...  Marilyn Monroe   \n",
      "3  I'm selfish, impatient and a little insecure. ...  Marilyn Monroe   \n",
      "4  I'm selfish, impatient and a little insecure. ...  Marilyn Monroe   \n",
      "\n",
      "                                                Tags   Category  \n",
      "0  [attributed-no-source, cry, crying, experience...       life  \n",
      "1  [attributed-no-source, cry, crying, experience...  happiness  \n",
      "2  [attributed-no-source, best, life, love, mista...       love  \n",
      "3  [attributed-no-source, best, life, love, mista...       life  \n",
      "4  [attributed-no-source, best, life, love, mista...      truth  \n"
     ]
    }
   ],
   "source": [
    "df.drop('Popularity', axis=1, inplace=True)\n",
    "print(df.head())"
   ]
  },
  {
   "cell_type": "code",
   "execution_count": 5,
   "id": "11ff7bf6",
   "metadata": {},
   "outputs": [
    {
     "name": "stdout",
     "output_type": "stream",
     "text": [
      "['life' 'happiness' 'love' 'truth' 'inspiration' 'humor' 'philosophy'\n",
      " 'science' '' 'soul' 'books' 'wisdom' 'knowledge' 'education' 'poetry'\n",
      " 'hope' 'friendship' 'writing' 'religion' 'death' 'romance' 'success'\n",
      " 'arts' 'relationship' 'motivation' 'faith' 'mind' 'god' 'funny' 'quotes'\n",
      " 'positive' 'purpose']\n"
     ]
    }
   ],
   "source": [
    "cat = df['Category'].unique()\n",
    "print(cat)"
   ]
  },
  {
   "cell_type": "code",
   "execution_count": 49,
   "id": "de8fa626",
   "metadata": {},
   "outputs": [
    {
     "name": "stdout",
     "output_type": "stream",
     "text": [
      "6230\n"
     ]
    }
   ],
   "source": [
    "# #Depreciated :(\n",
    "# filtered = pd.DataFrame()\n",
    "# for item in cat:\n",
    "#     if(item == 'inspiration'):\n",
    "#         filtered = pd.concat([df[df['Category']=='inspiration'],filtered])\n",
    "#     elif(item == 'motivation'):\n",
    "#         filtered = pd.concat([df[df['Category']=='motivation'],filtered])\n",
    "#     elif(item == 'positive'):\n",
    "#         filtered = pd.concat([df[df['Category']=='positive'],filtered])\n",
    "# print(len(filtered))"
   ]
  },
  {
   "cell_type": "code",
   "execution_count": 26,
   "id": "787febe2",
   "metadata": {},
   "outputs": [
    {
     "name": "stdout",
     "output_type": "stream",
     "text": [
      "6230\n"
     ]
    }
   ],
   "source": [
    "filtered = df.loc[df['Category'].isin(['motivation','inspiration','positive'])]\n",
    "print(len(filtered))"
   ]
  },
  {
   "cell_type": "code",
   "execution_count": 27,
   "id": "aca178c1",
   "metadata": {},
   "outputs": [
    {
     "name": "stdout",
     "output_type": "stream",
     "text": [
      "6227\n"
     ]
    }
   ],
   "source": [
    "filtered = filtered.loc[filtered.astype(str).drop_duplicates().index]\n",
    "print(len(filtered))"
   ]
  },
  {
   "cell_type": "code",
   "execution_count": 33,
   "id": "76a438aa",
   "metadata": {},
   "outputs": [],
   "source": [
    "result= filtered.to_json(r\"Quotes\\filtered.json\")"
   ]
  },
  {
   "cell_type": "code",
   "execution_count": 51,
   "id": "df020082",
   "metadata": {},
   "outputs": [
    {
     "name": "stdout",
     "output_type": "stream",
     "text": [
      "Without fear there cannot be courage.\n"
     ]
    }
   ],
   "source": [
    "test = pd.read_json(\"Quotes\\\\filtered.json\")\n",
    "count = len(test)\n",
    "num = random.randint(0,count+1)\n",
    "print(test.iloc[num]['Quote'])"
   ]
  },
  {
   "cell_type": "code",
   "execution_count": null,
   "id": "818999f6",
   "metadata": {},
   "outputs": [],
   "source": []
  },
  {
   "cell_type": "code",
   "execution_count": null,
   "id": "9978f9da",
   "metadata": {},
   "outputs": [],
   "source": []
  }
 ],
 "metadata": {
  "kernelspec": {
   "display_name": "Python 3 (ipykernel)",
   "language": "python",
   "name": "python3"
  },
  "language_info": {
   "codemirror_mode": {
    "name": "ipython",
    "version": 3
   },
   "file_extension": ".py",
   "mimetype": "text/x-python",
   "name": "python",
   "nbconvert_exporter": "python",
   "pygments_lexer": "ipython3",
   "version": "3.11.0"
  }
 },
 "nbformat": 4,
 "nbformat_minor": 5
}
